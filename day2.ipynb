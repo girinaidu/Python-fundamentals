{
 "cells": [
  {
   "cell_type": "code",
   "execution_count": null,
   "id": "9ed25862",
   "metadata": {},
   "outputs": [],
   "source": [
    "understanding the variables in python:"
   ]
  },
  {
   "cell_type": "code",
   "execution_count": 4,
   "id": "c39b4145",
   "metadata": {},
   "outputs": [],
   "source": [
    "x = 2\n",
    "y = 2"
   ]
  },
  {
   "cell_type": "code",
   "execution_count": 5,
   "id": "3db055a3",
   "metadata": {},
   "outputs": [],
   "source": [
    "z = x+y"
   ]
  },
  {
   "cell_type": "code",
   "execution_count": 6,
   "id": "056e6ae2",
   "metadata": {},
   "outputs": [
    {
     "name": "stdout",
     "output_type": "stream",
     "text": [
      "4\n"
     ]
    }
   ],
   "source": [
    "print(z)"
   ]
  },
  {
   "cell_type": "code",
   "execution_count": 7,
   "id": "a3afb5f9",
   "metadata": {},
   "outputs": [
    {
     "ename": "SyntaxError",
     "evalue": "invalid syntax (1794332152.py, line 1)",
     "output_type": "error",
     "traceback": [
      "\u001b[1;36m  Input \u001b[1;32mIn [7]\u001b[1;36m\u001b[0m\n\u001b[1;33m    rules for declaring the variables in python:\u001b[0m\n\u001b[1;37m          ^\u001b[0m\n\u001b[1;31mSyntaxError\u001b[0m\u001b[1;31m:\u001b[0m invalid syntax\n"
     ]
    }
   ],
   "source": [
    "rules for declaring the variables in python:\n",
    "    no name space while declaring the variable name\n",
    "    "
   ]
  },
  {
   "cell_type": "code",
   "execution_count": 13,
   "id": "33b1de5d",
   "metadata": {},
   "outputs": [
    {
     "name": "stdout",
     "output_type": "stream",
     "text": [
      "giri\n"
     ]
    }
   ],
   "source": [
    "firstname='giri'\n",
    "print(firstname)"
   ]
  },
  {
   "cell_type": "code",
   "execution_count": 8,
   "id": "b7b85cb1",
   "metadata": {},
   "outputs": [
    {
     "ename": "NameError",
     "evalue": "name 'firstname' is not defined",
     "output_type": "error",
     "traceback": [
      "\u001b[1;31m---------------------------------------------------------------------------\u001b[0m",
      "\u001b[1;31mNameError\u001b[0m                                 Traceback (most recent call last)",
      "Input \u001b[1;32mIn [8]\u001b[0m, in \u001b[0;36m<cell line: 1>\u001b[1;34m()\u001b[0m\n\u001b[1;32m----> 1\u001b[0m \u001b[38;5;28mprint\u001b[39m(\u001b[43mfirstname\u001b[49m)\n",
      "\u001b[1;31mNameError\u001b[0m: name 'firstname' is not defined"
     ]
    }
   ],
   "source": []
  },
  {
   "cell_type": "code",
   "execution_count": 9,
   "id": "1cc436fe",
   "metadata": {
    "scrolled": true
   },
   "outputs": [
    {
     "ename": "SyntaxError",
     "evalue": "invalid syntax (2683023735.py, line 1)",
     "output_type": "error",
     "traceback": [
      "\u001b[1;36m  Input \u001b[1;32mIn [9]\u001b[1;36m\u001b[0m\n\u001b[1;33m    a variable name should not start with number. **\u001b[0m\n\u001b[1;37m      ^\u001b[0m\n\u001b[1;31mSyntaxError\u001b[0m\u001b[1;31m:\u001b[0m invalid syntax\n"
     ]
    }
   ],
   "source": [
    "a variable name should not start with number. **"
   ]
  },
  {
   "cell_type": "code",
   "execution_count": null,
   "id": "0066bf94",
   "metadata": {},
   "outputs": [],
   "source": [
    "a variable name should not contain any special charectors\n",
    "!@#$%"
   ]
  },
  {
   "cell_type": "code",
   "execution_count": null,
   "id": "15ddae57",
   "metadata": {},
   "outputs": [],
   "source": [
    "introduction data type python\n",
    "\n",
    "1.string\n",
    "\n",
    "2.numbers- integer and float\n",
    "\n",
    "3.list\n",
    "\n",
    "4.tuple\n",
    "\n",
    "5.dictionary-"
   ]
  },
  {
   "cell_type": "code",
   "execution_count": null,
   "id": "07e058a2",
   "metadata": {},
   "outputs": [],
   "source": []
  },
  {
   "cell_type": "code",
   "execution_count": null,
   "id": "1f820157",
   "metadata": {},
   "outputs": [],
   "source": [
    "classification of data types\n",
    "these are classified into 2 types\n",
    "\n",
    "mutable -which can alter or edit-flexible\n",
    "immutable-which cannot be able to edit-fixed"
   ]
  },
  {
   "cell_type": "code",
   "execution_count": null,
   "id": "8a65a375",
   "metadata": {},
   "outputs": [],
   "source": [
    "introduction to string data type\n",
    "\n",
    "deff-a string is nothing but series of charectors declare in quotes\n",
    "classification-it is immutable data type\n",
    "how to declare string \n",
    "\n",
    "single,double and trible quote.\n",
    "\n",
    "# is used to commenting the code in python"
   ]
  },
  {
   "cell_type": "code",
   "execution_count": 10,
   "id": "efe68697",
   "metadata": {},
   "outputs": [
    {
     "name": "stdout",
     "output_type": "stream",
     "text": [
      "giri\n"
     ]
    }
   ],
   "source": [
    "name1 = 'giri'\n",
    "print(name1)"
   ]
  },
  {
   "cell_type": "code",
   "execution_count": 11,
   "id": "e7978264",
   "metadata": {},
   "outputs": [
    {
     "name": "stdout",
     "output_type": "stream",
     "text": [
      "giri\n"
     ]
    }
   ],
   "source": [
    "name2=\"giri\"\n",
    "print(name2)"
   ]
  },
  {
   "cell_type": "code",
   "execution_count": 12,
   "id": "b985029d",
   "metadata": {},
   "outputs": [
    {
     "name": "stdout",
     "output_type": "stream",
     "text": [
      "giri\n"
     ]
    }
   ],
   "source": [
    "name3=\"giri\"\n",
    "print(name3)"
   ]
  },
  {
   "cell_type": "code",
   "execution_count": null,
   "id": "be0ac53a",
   "metadata": {},
   "outputs": [],
   "source": [
    "introduction to string methods\n"
   ]
  },
  {
   "cell_type": "code",
   "execution_count": 14,
   "id": "870e8705",
   "metadata": {},
   "outputs": [
    {
     "data": {
      "text/plain": [
       "str"
      ]
     },
     "execution_count": 14,
     "metadata": {},
     "output_type": "execute_result"
    }
   ],
   "source": [
    "type(name1)"
   ]
  },
  {
   "cell_type": "code",
   "execution_count": 15,
   "id": "7581d34c",
   "metadata": {},
   "outputs": [
    {
     "data": {
      "text/plain": [
       "str"
      ]
     },
     "execution_count": 15,
     "metadata": {},
     "output_type": "execute_result"
    }
   ],
   "source": [
    "type(name2)"
   ]
  },
  {
   "cell_type": "code",
   "execution_count": null,
   "id": "5b85d6f0",
   "metadata": {},
   "outputs": [],
   "source": []
  }
 ],
 "metadata": {
  "kernelspec": {
   "display_name": "Python 3 (ipykernel)",
   "language": "python",
   "name": "python3"
  },
  "language_info": {
   "codemirror_mode": {
    "name": "ipython",
    "version": 3
   },
   "file_extension": ".py",
   "mimetype": "text/x-python",
   "name": "python",
   "nbconvert_exporter": "python",
   "pygments_lexer": "ipython3",
   "version": "3.9.12"
  }
 },
 "nbformat": 4,
 "nbformat_minor": 5
}
