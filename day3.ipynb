{
 "cells": [
  {
   "cell_type": "code",
   "execution_count": null,
   "id": "8ba174fd",
   "metadata": {},
   "outputs": [],
   "source": [
    "continution to string:"
   ]
  },
  {
   "cell_type": "code",
   "execution_count": 2,
   "id": "a0f6f205",
   "metadata": {},
   "outputs": [
    {
     "name": "stdout",
     "output_type": "stream",
     "text": [
      "giri yana\n"
     ]
    }
   ],
   "source": [
    "full_name='giri yana'\n",
    "print(full_name)"
   ]
  },
  {
   "cell_type": "code",
   "execution_count": 5,
   "id": "b3c44bc0",
   "metadata": {},
   "outputs": [
    {
     "name": "stdout",
     "output_type": "stream",
     "text": [
      "Giri Yana\n"
     ]
    }
   ],
   "source": [
    "print(full_name.title())\n",
    "#first letter will print capirtal lettet"
   ]
  },
  {
   "cell_type": "code",
   "execution_count": null,
   "id": "e641a668",
   "metadata": {},
   "outputs": [],
   "source": [
    "#i want full name in capital letters"
   ]
  },
  {
   "cell_type": "code",
   "execution_count": 4,
   "id": "3a1e7a6d",
   "metadata": {},
   "outputs": [
    {
     "name": "stdout",
     "output_type": "stream",
     "text": [
      "GIRI YANA\n"
     ]
    }
   ],
   "source": [
    "print(full_name.upper())"
   ]
  },
  {
   "cell_type": "code",
   "execution_count": null,
   "id": "2086f1c0",
   "metadata": {},
   "outputs": [],
   "source": [
    "#i want small lettets"
   ]
  },
  {
   "cell_type": "code",
   "execution_count": 6,
   "id": "ee0c4414",
   "metadata": {},
   "outputs": [
    {
     "name": "stdout",
     "output_type": "stream",
     "text": [
      "giri yana\n"
     ]
    }
   ],
   "source": [
    "print(full_name.lower())"
   ]
  },
  {
   "cell_type": "code",
   "execution_count": null,
   "id": "34130184",
   "metadata": {},
   "outputs": [],
   "source": [
    "#introduction to F string:"
   ]
  },
  {
   "cell_type": "code",
   "execution_count": null,
   "id": "ff75fe72",
   "metadata": {},
   "outputs": [],
   "source": [
    "f\" custom words {placeholder1,placeholder2------placeholdern}"
   ]
  },
  {
   "cell_type": "code",
   "execution_count": 7,
   "id": "03250b8c",
   "metadata": {},
   "outputs": [
    {
     "ename": "SyntaxError",
     "evalue": "EOL while scanning string literal (1188800444.py, line 1)",
     "output_type": "error",
     "traceback": [
      "\u001b[1;36m  Input \u001b[1;32mIn [7]\u001b[1;36m\u001b[0m\n\u001b[1;33m    full_name=f\"{first_name}{last_name}\u001b[0m\n\u001b[1;37m                                       ^\u001b[0m\n\u001b[1;31mSyntaxError\u001b[0m\u001b[1;31m:\u001b[0m EOL while scanning string literal\n"
     ]
    }
   ],
   "source": [
    "full_name=f\"{first_name}{last_name}"
   ]
  },
  {
   "cell_type": "code",
   "execution_count": 8,
   "id": "cbbe71c4",
   "metadata": {},
   "outputs": [
    {
     "name": "stdout",
     "output_type": "stream",
     "text": [
      "giri yana\n"
     ]
    }
   ],
   "source": [
    "print(full_name.lower())"
   ]
  },
  {
   "cell_type": "code",
   "execution_count": null,
   "id": "510b5bc4",
   "metadata": {},
   "outputs": [],
   "source": [
    "#adding white spaces to string"
   ]
  },
  {
   "cell_type": "code",
   "execution_count": 9,
   "id": "eb401bde",
   "metadata": {},
   "outputs": [
    {
     "name": "stdout",
     "output_type": "stream",
     "text": [
      "welcome to python program\n"
     ]
    }
   ],
   "source": [
    "print(\"welcome to python program\")"
   ]
  },
  {
   "cell_type": "code",
   "execution_count": 13,
   "id": "bf8c3c36",
   "metadata": {},
   "outputs": [
    {
     "name": "stdout",
     "output_type": "stream",
     "text": [
      "welcome\n",
      "\tto\n",
      "\tpython\n",
      "\tprogram\n"
     ]
    }
   ],
   "source": [
    "print(\"welcome\\n\\tto\\n\\tpython\\n\\tprogram\")"
   ]
  },
  {
   "cell_type": "code",
   "execution_count": null,
   "id": "4fdebd4c",
   "metadata": {},
   "outputs": [],
   "source": [
    "#\\n is new line and \\t is applying the tab"
   ]
  },
  {
   "cell_type": "code",
   "execution_count": null,
   "id": "81edbd91",
   "metadata": {},
   "outputs": [],
   "source": [
    "#removing white spaces from strings"
   ]
  },
  {
   "cell_type": "code",
   "execution_count": 17,
   "id": "824974dd",
   "metadata": {},
   "outputs": [
    {
     "ename": "NameError",
     "evalue": "name 'rama' is not defined",
     "output_type": "error",
     "traceback": [
      "\u001b[1;31m---------------------------------------------------------------------------\u001b[0m",
      "\u001b[1;31mNameError\u001b[0m                                 Traceback (most recent call last)",
      "Input \u001b[1;32mIn [17]\u001b[0m, in \u001b[0;36m<cell line: 2>\u001b[1;34m()\u001b[0m\n\u001b[0;32m      1\u001b[0m name \u001b[38;5;241m=\u001b[39m \u001b[38;5;124m\"\u001b[39m\u001b[38;5;124mwelcome\u001b[39m\u001b[38;5;124m\"\u001b[39m\n\u001b[1;32m----> 2\u001b[0m \u001b[38;5;28mprint\u001b[39m(\u001b[43mrama\u001b[49m)\n",
      "\u001b[1;31mNameError\u001b[0m: name 'rama' is not defined"
     ]
    }
   ],
   "source": [
    "name = \"welcome\"\n",
    "print(rama)"
   ]
  },
  {
   "cell_type": "code",
   "execution_count": 18,
   "id": "1974b740",
   "metadata": {},
   "outputs": [
    {
     "data": {
      "text/plain": [
       "'welcome'"
      ]
     },
     "execution_count": 18,
     "metadata": {},
     "output_type": "execute_result"
    }
   ],
   "source": [
    "name.lstrip()"
   ]
  },
  {
   "cell_type": "code",
   "execution_count": 19,
   "id": "40cba1c7",
   "metadata": {},
   "outputs": [
    {
     "data": {
      "text/plain": [
       "'welcome'"
      ]
     },
     "execution_count": 19,
     "metadata": {},
     "output_type": "execute_result"
    }
   ],
   "source": [
    "name.rstrip()"
   ]
  },
  {
   "cell_type": "code",
   "execution_count": null,
   "id": "90b306b4",
   "metadata": {},
   "outputs": [],
   "source": [
    "#remove space for use variable.strip()"
   ]
  }
 ],
 "metadata": {
  "kernelspec": {
   "display_name": "Python 3 (ipykernel)",
   "language": "python",
   "name": "python3"
  },
  "language_info": {
   "codemirror_mode": {
    "name": "ipython",
    "version": 3
   },
   "file_extension": ".py",
   "mimetype": "text/x-python",
   "name": "python",
   "nbconvert_exporter": "python",
   "pygments_lexer": "ipython3",
   "version": "3.9.12"
  }
 },
 "nbformat": 4,
 "nbformat_minor": 5
}
